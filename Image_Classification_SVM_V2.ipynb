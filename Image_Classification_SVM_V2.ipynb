{
  "cells": [
    {
      "cell_type": "code",
      "execution_count": null,
      "metadata": {
        "colab": {
          "base_uri": "https://localhost:8080/"
        },
        "id": "AWEXmk4NLTiY",
        "outputId": "9704c883-4a3c-4b46-a240-b975e08dabf2"
      },
      "outputs": [
        {
          "name": "stdout",
          "output_type": "stream",
          "text": [
            "Training images shape: (60000, 784)\n",
            "Training labels shape: (60000,)\n",
            "Test images shape: (10000, 784)\n",
            "Test labels shape: (10000,)\n"
          ]
        }
      ],
      "source": [
        "from keras.datasets import mnist\n",
        "import numpy as np\n",
        "from scipy.optimize import minimize\n",
        "\n",
        "\n",
        "(train_images, train_labels), (test_images, test_labels) = mnist.load_data()\n",
        "\n",
        "\n",
        "train_images = train_images.reshape((60000, 28 * 28)).astype(np.float32) / 255\n",
        "test_images = test_images.reshape((10000, 28 * 28)).astype(np.float32) / 255\n",
        "\n",
        "print(f'Training images shape: {train_images.shape}')\n",
        "print(f'Training labels shape: {train_labels.shape}')\n",
        "print(f'Test images shape: {test_images.shape}')\n",
        "print(f'Test labels shape: {test_labels.shape}')\n"
      ]
    },
    {
      "cell_type": "code",
      "execution_count": 13,
      "metadata": {
        "colab": {
          "base_uri": "https://localhost:8080/"
        },
        "id": "I1F9ojU4LWC6",
        "outputId": "7533bfa7-07fb-4212-f7d8-c7dbad5c0fd9"
      },
      "outputs": [
        {
          "name": "stdout",
          "output_type": "stream",
          "text": [
            "Reduced training data shape: (1000, 50)\n",
            "Reduced test data shape: (1000, 50)\n",
            "Training labels shape: (1000,)\n",
            "Test images shape: (1000, 784)\n",
            "Test labels shape: (1000,)\n"
          ]
        }
      ],
      "source": [
        "def pca(X, num_components):\n",
        "    X_meaned = X - np.mean(X, axis=0)\n",
        "    covariance_matrix = np.cov(X_meaned, rowvar=False)\n",
        "    eigenvalues, eigenvectors = np.linalg.eigh(covariance_matrix)\n",
        "    sorted_index = np.argsort(eigenvalues)[::-1]\n",
        "    sorted_eigenvectors = eigenvectors[:, sorted_index]\n",
        "    eigenvector_subset = sorted_eigenvectors[:, 0:num_components]\n",
        "    X_reduced = np.dot(X_meaned, eigenvector_subset)\n",
        "    return X_reduced\n",
        "\n",
        "\n",
        "\n",
        "num_components = 50\n",
        "\n",
        "subset_size = 1000\n",
        "train_images_subset = train_images[:subset_size]\n",
        "train_labels_subset = train_labels[:subset_size]\n",
        "test_images_subset = test_images[:subset_size]\n",
        "test_labels_subset = test_labels[:subset_size]\n",
        "X_train_reduced = pca(train_images_subset, num_components)\n",
        "X_test_reduced = pca(test_images_subset, num_components)\n",
        "\n",
        "print(f'Reduced training data shape: {X_train_reduced.shape}')\n",
        "print(f'Reduced test data shape: {X_test_reduced.shape}')\n",
        "\n",
        "print(f'Training labels shape: {train_labels_subset.shape}')\n",
        "print(f'Test images shape: {test_images_subset.shape}')\n",
        "print(f'Test labels shape: {test_labels_subset.shape}')\n"
      ]
    },
    {
      "cell_type": "code",
      "execution_count": null,
      "metadata": {
        "id": "AAtjuN5DLoTW"
      },
      "outputs": [],
      "source": [
        "class SVM:\n",
        "    def __init__(self, C=1.0, gamma=1.0):\n",
        "        self.C = C\n",
        "        self.gamma = gamma\n",
        "        self.alpha = None\n",
        "        self.support_vectors = None\n",
        "        self.support_vector_labels = None\n",
        "        self.b = 0\n",
        "\n",
        "    def kernel(self, x1, x2):\n",
        "        return np.exp(-self.gamma * np.linalg.norm(x1 - x2) ** 2)\n",
        "\n",
        "    def fit(self, X, y):\n",
        "        n_samples = len(X)\n",
        "        K = np.zeros((n_samples, n_samples))\n",
        "        for i in range(n_samples):\n",
        "            for j in range(n_samples):\n",
        "                K[i, j] = self.kernel(X[i], X[j])\n",
        "        \n",
        "        # Objective function coefficients\n",
        "        P = K * np.outer(y, y)\n",
        "        q = -np.ones(n_samples)\n",
        "        \n",
        "        # Constraints\n",
        "        A = y.astype(float)\n",
        "        b = 0.0\n",
        "        G = np.vstack((-np.eye(n_samples), np.eye(n_samples)))\n",
        "        h = np.hstack((np.zeros(n_samples), np.ones(n_samples) * self.C))\n",
        "        \n",
        "        # Solve the quadratic program\n",
        "        def objective(alpha):\n",
        "            return 0.5 * np.dot(alpha.T, np.dot(P, alpha)) + np.dot(q.T, alpha)\n",
        "        \n",
        "        constraints = ({'type': 'eq', 'fun': lambda alpha: np.dot(A, alpha) - b},\n",
        "                    {'type': 'ineq', 'fun': lambda alpha: alpha},\n",
        "                    {'type': 'ineq', 'fun': lambda alpha: self.C - alpha})\n",
        "        \n",
        "        bounds = [(0, self.C) for _ in range(n_samples)]\n",
        "        \n",
        "        res = minimize(objective, np.zeros(n_samples), method='SLSQP', constraints=constraints, bounds=bounds)\n",
        "        \n",
        "        self.alpha = res.x\n",
        "        \n",
        "        sv = self.alpha > 1e-5\n",
        "        self.support_vectors = np.array(X)[sv]\n",
        "        self.support_vector_labels = y[sv]\n",
        "        self.alpha = self.alpha[sv]\n",
        "        \n",
        "        self.b = np.mean([y_k - self.predict_single(x_k) for (x_k, y_k) in zip(self.support_vectors, self.support_vector_labels)])\n",
        "\n",
        "    def predict_single(self, x):\n",
        "        result = self.b\n",
        "        for alpha_k, x_k, y_k in zip(self.alpha, self.support_vectors, self.support_vector_labels):\n",
        "            result += alpha_k * y_k * self.kernel(x_k, x)\n",
        "        return np.sign(result)\n",
        "\n",
        "    def predict(self, X):\n",
        "        return np.array([self.predict_single(x) for x in X])\n",
        "\n",
        "def prepare_labels(y, class_label):\n",
        "    return np.where(y == class_label, 1, -1)"
      ]
    },
    {
      "cell_type": "code",
      "execution_count": 20,
      "metadata": {
        "colab": {
          "base_uri": "https://localhost:8080/"
        },
        "id": "Q8uuRz5xLqih",
        "outputId": "e5265106-5a66-40ab-f3b4-31c34bc34f4b"
      },
      "outputs": [
        {
          "name": "stdout",
          "output_type": "stream",
          "text": [
            "Training classifier for digit 0...\n",
            "Training classifier for digit 1...\n",
            "Training classifier for digit 2...\n",
            "Training classifier for digit 3...\n",
            "Training classifier for digit 4...\n",
            "Training classifier for digit 5...\n",
            "Training classifier for digit 6...\n",
            "Training classifier for digit 7...\n",
            "Training classifier for digit 8...\n",
            "Training classifier for digit 9...\n",
            "Test set accuracy: 8.50%\n"
          ]
        }
      ],
      "source": [
        "svm_classifiers = []\n",
        "n_classes = 10\n",
        "\n",
        "for class_label in range(n_classes):\n",
        "    print(f'Training classifier for digit {class_label}...')\n",
        "    y_train_binary = prepare_labels(train_labels_subset, class_label)\n",
        "    svm = SVM(C=1.0, gamma=0.05)\n",
        "    svm.fit(X_train_reduced, y_train_binary)\n",
        "    svm_classifiers.append(svm)\n",
        "\n",
        "def predict_multi_class(X):\n",
        "    predictions = np.zeros((X.shape[0], n_classes))\n",
        "    for idx, svm in enumerate(svm_classifiers):\n",
        "        preds = svm.predict(X)\n",
        "        predictions[:, idx] = preds\n",
        "    return np.argmax(predictions, axis=1)\n",
        "\n",
        "y_pred = predict_multi_class(X_test_reduced)\n",
        "accuracy = np.mean(y_pred == test_labels_subset)\n",
        "print(f'Test set accuracy: {accuracy * 100:.2f}%')"
      ]
    },
    {
      "cell_type": "code",
      "execution_count": null,
      "metadata": {
        "id": "G-_U2GtPLsBa"
      },
      "outputs": [],
      "source": []
    }
  ],
  "metadata": {
    "accelerator": "TPU",
    "colab": {
      "gpuType": "V28",
      "provenance": []
    },
    "kernelspec": {
      "display_name": "Python 3",
      "name": "python3"
    },
    "language_info": {
      "name": "python"
    }
  },
  "nbformat": 4,
  "nbformat_minor": 0
}
